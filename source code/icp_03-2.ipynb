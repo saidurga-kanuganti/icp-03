{
  "nbformat": 4,
  "nbformat_minor": 0,
  "metadata": {
    "colab": {
      "name": "icp 03.ipynb",
      "provenance": [],
      "collapsed_sections": []
    },
    "kernelspec": {
      "name": "python3",
      "display_name": "Python 3"
    },
    "language_info": {
      "name": "python"
    }
  },
  "cells": [
    {
      "cell_type": "markdown",
      "metadata": {
        "id": "7cfjzO3lh-wR"
      },
      "source": [
        "Imported all the required libraries\n"
      ]
    },
    {
      "cell_type": "code",
      "metadata": {
        "colab": {
          "base_uri": "https://localhost:8080/"
        },
        "id": "K6mkvK2Po3-V",
        "outputId": "a8653245-fa4e-4996-a88a-c468060b846f"
      },
      "source": [
        "import pandas as pd\n",
        "import numpy as np\n",
        "import re\n",
        "import string\n",
        "import keras\n",
        "import nltk\n",
        "\n",
        "\n",
        "from nltk import sent_tokenize\n",
        "from nltk import word_tokenize\n",
        "#from numpy import arrays\n",
        "from keras.models import Sequential\n",
        "from keras.layers.core import Activation,Dropout,Dense\n",
        "from sklearn.model_selection import train_test_split\n",
        "from keras.preprocessing.text import Tokenizer\n",
        "\n",
        "\n",
        "#plotting libraries\n",
        "from matplotlib import pyplot as plt\n",
        "import seaborn as sns\n",
        "import nltk\n",
        "import nltk\n",
        "nltk.download('stopwords')\n",
        "from nltk.corpus import stopwords\n",
        "#Global parameters\n",
        "STOPWORDS = set(stopwords.words('english'))\n",
        "\n",
        "nltk.download(\"popular\")"
      ],
      "execution_count": 1,
      "outputs": [
        {
          "output_type": "stream",
          "name": "stdout",
          "text": [
            "[nltk_data] Downloading package stopwords to /root/nltk_data...\n",
            "[nltk_data]   Unzipping corpora/stopwords.zip.\n",
            "[nltk_data] Downloading collection 'popular'\n",
            "[nltk_data]    | \n",
            "[nltk_data]    | Downloading package cmudict to /root/nltk_data...\n",
            "[nltk_data]    |   Unzipping corpora/cmudict.zip.\n",
            "[nltk_data]    | Downloading package gazetteers to /root/nltk_data...\n",
            "[nltk_data]    |   Unzipping corpora/gazetteers.zip.\n",
            "[nltk_data]    | Downloading package genesis to /root/nltk_data...\n",
            "[nltk_data]    |   Unzipping corpora/genesis.zip.\n",
            "[nltk_data]    | Downloading package gutenberg to /root/nltk_data...\n",
            "[nltk_data]    |   Unzipping corpora/gutenberg.zip.\n",
            "[nltk_data]    | Downloading package inaugural to /root/nltk_data...\n",
            "[nltk_data]    |   Unzipping corpora/inaugural.zip.\n",
            "[nltk_data]    | Downloading package movie_reviews to\n",
            "[nltk_data]    |     /root/nltk_data...\n",
            "[nltk_data]    |   Unzipping corpora/movie_reviews.zip.\n",
            "[nltk_data]    | Downloading package names to /root/nltk_data...\n",
            "[nltk_data]    |   Unzipping corpora/names.zip.\n",
            "[nltk_data]    | Downloading package shakespeare to /root/nltk_data...\n",
            "[nltk_data]    |   Unzipping corpora/shakespeare.zip.\n",
            "[nltk_data]    | Downloading package stopwords to /root/nltk_data...\n",
            "[nltk_data]    |   Package stopwords is already up-to-date!\n",
            "[nltk_data]    | Downloading package treebank to /root/nltk_data...\n",
            "[nltk_data]    |   Unzipping corpora/treebank.zip.\n",
            "[nltk_data]    | Downloading package twitter_samples to\n",
            "[nltk_data]    |     /root/nltk_data...\n",
            "[nltk_data]    |   Unzipping corpora/twitter_samples.zip.\n",
            "[nltk_data]    | Downloading package omw to /root/nltk_data...\n",
            "[nltk_data]    |   Unzipping corpora/omw.zip.\n",
            "[nltk_data]    | Downloading package wordnet to /root/nltk_data...\n",
            "[nltk_data]    |   Unzipping corpora/wordnet.zip.\n",
            "[nltk_data]    | Downloading package wordnet_ic to /root/nltk_data...\n",
            "[nltk_data]    |   Unzipping corpora/wordnet_ic.zip.\n",
            "[nltk_data]    | Downloading package words to /root/nltk_data...\n",
            "[nltk_data]    |   Unzipping corpora/words.zip.\n",
            "[nltk_data]    | Downloading package maxent_ne_chunker to\n",
            "[nltk_data]    |     /root/nltk_data...\n",
            "[nltk_data]    |   Unzipping chunkers/maxent_ne_chunker.zip.\n",
            "[nltk_data]    | Downloading package punkt to /root/nltk_data...\n",
            "[nltk_data]    |   Unzipping tokenizers/punkt.zip.\n",
            "[nltk_data]    | Downloading package snowball_data to\n",
            "[nltk_data]    |     /root/nltk_data...\n",
            "[nltk_data]    | Downloading package averaged_perceptron_tagger to\n",
            "[nltk_data]    |     /root/nltk_data...\n",
            "[nltk_data]    |   Unzipping taggers/averaged_perceptron_tagger.zip.\n",
            "[nltk_data]    | \n",
            "[nltk_data]  Done downloading collection popular\n"
          ]
        },
        {
          "output_type": "execute_result",
          "data": {
            "text/plain": [
              "True"
            ]
          },
          "metadata": {},
          "execution_count": 1
        }
      ]
    },
    {
      "cell_type": "markdown",
      "metadata": {
        "id": "5zOfCW5pjpaw"
      },
      "source": [
        "Reading the data file"
      ]
    },
    {
      "cell_type": "code",
      "metadata": {
        "id": "HHxXtiG7pK_7"
      },
      "source": [
        "Data = pd.read_csv('https://raw.githubusercontent.com/dD2405/Twitter_Sentiment_Analysis/master/train.csv')"
      ],
      "execution_count": 2,
      "outputs": []
    },
    {
      "cell_type": "markdown",
      "metadata": {
        "id": "TYxmHFILj2yl"
      },
      "source": [
        "#to check whether there are any null values in the data set"
      ]
    },
    {
      "cell_type": "code",
      "metadata": {
        "colab": {
          "base_uri": "https://localhost:8080/"
        },
        "id": "MDRldRKmnJ_g",
        "outputId": "166a1a44-f8c6-4b03-9e86-1c1e12a70b13"
      },
      "source": [
        "Data.isnull().values.any()"
      ],
      "execution_count": 3,
      "outputs": [
        {
          "output_type": "execute_result",
          "data": {
            "text/plain": [
              "False"
            ]
          },
          "metadata": {},
          "execution_count": 3
        }
      ]
    },
    {
      "cell_type": "markdown",
      "metadata": {
        "id": "_BoXAoF3kQoZ"
      },
      "source": [
        "to view top five bottom five rows of data in the given data set"
      ]
    },
    {
      "cell_type": "code",
      "metadata": {
        "colab": {
          "base_uri": "https://localhost:8080/",
          "height": 419
        },
        "id": "zPyuCbmKpRi9",
        "outputId": "ee0849f0-b0f9-4398-fed6-203835d644d5"
      },
      "source": [
        "Data"
      ],
      "execution_count": 4,
      "outputs": [
        {
          "output_type": "execute_result",
          "data": {
            "text/html": [
              "<div>\n",
              "<style scoped>\n",
              "    .dataframe tbody tr th:only-of-type {\n",
              "        vertical-align: middle;\n",
              "    }\n",
              "\n",
              "    .dataframe tbody tr th {\n",
              "        vertical-align: top;\n",
              "    }\n",
              "\n",
              "    .dataframe thead th {\n",
              "        text-align: right;\n",
              "    }\n",
              "</style>\n",
              "<table border=\"1\" class=\"dataframe\">\n",
              "  <thead>\n",
              "    <tr style=\"text-align: right;\">\n",
              "      <th></th>\n",
              "      <th>id</th>\n",
              "      <th>label</th>\n",
              "      <th>tweet</th>\n",
              "    </tr>\n",
              "  </thead>\n",
              "  <tbody>\n",
              "    <tr>\n",
              "      <th>0</th>\n",
              "      <td>1</td>\n",
              "      <td>0</td>\n",
              "      <td>@user when a father is dysfunctional and is s...</td>\n",
              "    </tr>\n",
              "    <tr>\n",
              "      <th>1</th>\n",
              "      <td>2</td>\n",
              "      <td>0</td>\n",
              "      <td>@user @user thanks for #lyft credit i can't us...</td>\n",
              "    </tr>\n",
              "    <tr>\n",
              "      <th>2</th>\n",
              "      <td>3</td>\n",
              "      <td>0</td>\n",
              "      <td>bihday your majesty</td>\n",
              "    </tr>\n",
              "    <tr>\n",
              "      <th>3</th>\n",
              "      <td>4</td>\n",
              "      <td>0</td>\n",
              "      <td>#model   i love u take with u all the time in ...</td>\n",
              "    </tr>\n",
              "    <tr>\n",
              "      <th>4</th>\n",
              "      <td>5</td>\n",
              "      <td>0</td>\n",
              "      <td>factsguide: society now    #motivation</td>\n",
              "    </tr>\n",
              "    <tr>\n",
              "      <th>...</th>\n",
              "      <td>...</td>\n",
              "      <td>...</td>\n",
              "      <td>...</td>\n",
              "    </tr>\n",
              "    <tr>\n",
              "      <th>31957</th>\n",
              "      <td>31958</td>\n",
              "      <td>0</td>\n",
              "      <td>ate @user isz that youuu?ðððððð...</td>\n",
              "    </tr>\n",
              "    <tr>\n",
              "      <th>31958</th>\n",
              "      <td>31959</td>\n",
              "      <td>0</td>\n",
              "      <td>to see nina turner on the airwaves trying to...</td>\n",
              "    </tr>\n",
              "    <tr>\n",
              "      <th>31959</th>\n",
              "      <td>31960</td>\n",
              "      <td>0</td>\n",
              "      <td>listening to sad songs on a monday morning otw...</td>\n",
              "    </tr>\n",
              "    <tr>\n",
              "      <th>31960</th>\n",
              "      <td>31961</td>\n",
              "      <td>1</td>\n",
              "      <td>@user #sikh #temple vandalised in in #calgary,...</td>\n",
              "    </tr>\n",
              "    <tr>\n",
              "      <th>31961</th>\n",
              "      <td>31962</td>\n",
              "      <td>0</td>\n",
              "      <td>thank you @user for you follow</td>\n",
              "    </tr>\n",
              "  </tbody>\n",
              "</table>\n",
              "<p>31962 rows × 3 columns</p>\n",
              "</div>"
            ],
            "text/plain": [
              "          id  label                                              tweet\n",
              "0          1      0   @user when a father is dysfunctional and is s...\n",
              "1          2      0  @user @user thanks for #lyft credit i can't us...\n",
              "2          3      0                                bihday your majesty\n",
              "3          4      0  #model   i love u take with u all the time in ...\n",
              "4          5      0             factsguide: society now    #motivation\n",
              "...      ...    ...                                                ...\n",
              "31957  31958      0  ate @user isz that youuu?ðððððð...\n",
              "31958  31959      0    to see nina turner on the airwaves trying to...\n",
              "31959  31960      0  listening to sad songs on a monday morning otw...\n",
              "31960  31961      1  @user #sikh #temple vandalised in in #calgary,...\n",
              "31961  31962      0                   thank you @user for you follow  \n",
              "\n",
              "[31962 rows x 3 columns]"
            ]
          },
          "metadata": {},
          "execution_count": 4
        }
      ]
    },
    {
      "cell_type": "markdown",
      "metadata": {
        "id": "JNTu89V-kdbA"
      },
      "source": [
        "counting distinct values on column 'label'"
      ]
    },
    {
      "cell_type": "code",
      "metadata": {
        "colab": {
          "base_uri": "https://localhost:8080/",
          "height": 142
        },
        "id": "OI9K8Z03neZd",
        "outputId": "aac83f83-30c2-4556-8ba1-597cc874f714"
      },
      "source": [
        "Data.groupby(['label']).count()"
      ],
      "execution_count": 5,
      "outputs": [
        {
          "output_type": "execute_result",
          "data": {
            "text/html": [
              "<div>\n",
              "<style scoped>\n",
              "    .dataframe tbody tr th:only-of-type {\n",
              "        vertical-align: middle;\n",
              "    }\n",
              "\n",
              "    .dataframe tbody tr th {\n",
              "        vertical-align: top;\n",
              "    }\n",
              "\n",
              "    .dataframe thead th {\n",
              "        text-align: right;\n",
              "    }\n",
              "</style>\n",
              "<table border=\"1\" class=\"dataframe\">\n",
              "  <thead>\n",
              "    <tr style=\"text-align: right;\">\n",
              "      <th></th>\n",
              "      <th>id</th>\n",
              "      <th>tweet</th>\n",
              "    </tr>\n",
              "    <tr>\n",
              "      <th>label</th>\n",
              "      <th></th>\n",
              "      <th></th>\n",
              "    </tr>\n",
              "  </thead>\n",
              "  <tbody>\n",
              "    <tr>\n",
              "      <th>0</th>\n",
              "      <td>29720</td>\n",
              "      <td>29720</td>\n",
              "    </tr>\n",
              "    <tr>\n",
              "      <th>1</th>\n",
              "      <td>2242</td>\n",
              "      <td>2242</td>\n",
              "    </tr>\n",
              "  </tbody>\n",
              "</table>\n",
              "</div>"
            ],
            "text/plain": [
              "          id  tweet\n",
              "label              \n",
              "0      29720  29720\n",
              "1       2242   2242"
            ]
          },
          "metadata": {},
          "execution_count": 5
        }
      ]
    },
    {
      "cell_type": "markdown",
      "metadata": {
        "id": "xJnZoBvpk1M5"
      },
      "source": [
        "Data type of each column"
      ]
    },
    {
      "cell_type": "code",
      "metadata": {
        "colab": {
          "base_uri": "https://localhost:8080/"
        },
        "id": "mJP2mpdwnoC6",
        "outputId": "888d4320-ae90-4280-a0d4-259c000686ed"
      },
      "source": [
        "Data.dtypes"
      ],
      "execution_count": 6,
      "outputs": [
        {
          "output_type": "execute_result",
          "data": {
            "text/plain": [
              "id        int64\n",
              "label     int64\n",
              "tweet    object\n",
              "dtype: object"
            ]
          },
          "metadata": {},
          "execution_count": 6
        }
      ]
    },
    {
      "cell_type": "markdown",
      "metadata": {
        "id": "lsBVLiXtk7MF"
      },
      "source": [
        "view of a tweet"
      ]
    },
    {
      "cell_type": "code",
      "metadata": {
        "colab": {
          "base_uri": "https://localhost:8080/",
          "height": 37
        },
        "id": "TgtB6fKpnxtj",
        "outputId": "dec29318-ef2c-434d-c6b2-b2ebe675ae08"
      },
      "source": [
        "Data['tweet'][4]"
      ],
      "execution_count": 9,
      "outputs": [
        {
          "output_type": "execute_result",
          "data": {
            "application/vnd.google.colaboratory.intrinsic+json": {
              "type": "string"
            },
            "text/plain": [
              "' factsguide: society now    #motivation'"
            ]
          },
          "metadata": {},
          "execution_count": 9
        }
      ]
    },
    {
      "cell_type": "code",
      "metadata": {
        "colab": {
          "base_uri": "https://localhost:8080/",
          "height": 296
        },
        "id": "Kyvoiz7gn5Mg",
        "outputId": "a134cdaa-4d65-4d2c-8e53-10c99713e331"
      },
      "source": [
        "sns.countplot(x='label',data=Data)"
      ],
      "execution_count": 8,
      "outputs": [
        {
          "output_type": "execute_result",
          "data": {
            "text/plain": [
              "<matplotlib.axes._subplots.AxesSubplot at 0x7fd900d79590>"
            ]
          },
          "metadata": {},
          "execution_count": 8
        },
        {
          "output_type": "display_data",
          "data": {
            "image/png": "[encoded data removed]",
            "text/plain": [
              "<Figure size 432x288 with 1 Axes>"
            ]
          },
          "metadata": {
            "needs_background": "light"
          }
        }
      ]
    },
    {
      "cell_type": "markdown",
      "metadata": {
        "id": "Q1Ox_uExlJlo"
      },
      "source": [
        "deleting id column"
      ]
    },
    {
      "cell_type": "code",
      "metadata": {
        "id": "w0dB6IYGoCA-"
      },
      "source": [
        "del Data['id']"
      ],
      "execution_count": 10,
      "outputs": []
    },
    {
      "cell_type": "markdown",
      "metadata": {
        "id": "Xu8eOu-YlNNv"
      },
      "source": [
        "review the data"
      ]
    },
    {
      "cell_type": "code",
      "metadata": {
        "colab": {
          "base_uri": "https://localhost:8080/",
          "height": 204
        },
        "id": "uxd40N0_oOsL",
        "outputId": "c658dc6c-247a-4007-e4c3-fa536ad7543f"
      },
      "source": [
        "Data.head()"
      ],
      "execution_count": 11,
      "outputs": [
        {
          "output_type": "execute_result",
          "data": {
            "text/html": [
              "<div>\n",
              "<style scoped>\n",
              "    .dataframe tbody tr th:only-of-type {\n",
              "        vertical-align: middle;\n",
              "    }\n",
              "\n",
              "    .dataframe tbody tr th {\n",
              "        vertical-align: top;\n",
              "    }\n",
              "\n",
              "    .dataframe thead th {\n",
              "        text-align: right;\n",
              "    }\n",
              "</style>\n",
              "<table border=\"1\" class=\"dataframe\">\n",
              "  <thead>\n",
              "    <tr style=\"text-align: right;\">\n",
              "      <th></th>\n",
              "      <th>label</th>\n",
              "      <th>tweet</th>\n",
              "    </tr>\n",
              "  </thead>\n",
              "  <tbody>\n",
              "    <tr>\n",
              "      <th>0</th>\n",
              "      <td>0</td>\n",
              "      <td>@user when a father is dysfunctional and is s...</td>\n",
              "    </tr>\n",
              "    <tr>\n",
              "      <th>1</th>\n",
              "      <td>0</td>\n",
              "      <td>@user @user thanks for #lyft credit i can't us...</td>\n",
              "    </tr>\n",
              "    <tr>\n",
              "      <th>2</th>\n",
              "      <td>0</td>\n",
              "      <td>bihday your majesty</td>\n",
              "    </tr>\n",
              "    <tr>\n",
              "      <th>3</th>\n",
              "      <td>0</td>\n",
              "      <td>#model   i love u take with u all the time in ...</td>\n",
              "    </tr>\n",
              "    <tr>\n",
              "      <th>4</th>\n",
              "      <td>0</td>\n",
              "      <td>factsguide: society now    #motivation</td>\n",
              "    </tr>\n",
              "  </tbody>\n",
              "</table>\n",
              "</div>"
            ],
            "text/plain": [
              "   label                                              tweet\n",
              "0      0   @user when a father is dysfunctional and is s...\n",
              "1      0  @user @user thanks for #lyft credit i can't us...\n",
              "2      0                                bihday your majesty\n",
              "3      0  #model   i love u take with u all the time in ...\n",
              "4      0             factsguide: society now    #motivation"
            ]
          },
          "metadata": {},
          "execution_count": 11
        }
      ]
    },
    {
      "cell_type": "markdown",
      "metadata": {
        "id": "OQglwqfWlgle"
      },
      "source": [
        "Defining a function to process the tweets"
      ]
    },
    {
      "cell_type": "code",
      "metadata": {
        "id": "t9DnAHFQ-0xh"
      },
      "source": [
        "def remove_symb(tweet):\n",
        "\n",
        "  #changes in lower case\n",
        "  tweet.lower()\n",
        "  #regular expression is used to remove urls punctuations and all\n",
        "  #removes user references and #from tweet\n",
        "  tweet=re.sub(r'\\@\\w+|\\#','',tweet)\n",
        "  #used to remove urls\n",
        "  tweet=re.sub(r\"http\\S+|www\\S+|https\\S+\",'',tweet,flags=re.MULTILINE)\n",
        "  #used to remove punctuations\n",
        "  tweet=tweet.translate(str.maketrans('','',string.punctuation))\n",
        "  #used to remove multisapces\n",
        "  tweet=re.sub(r'\\s+',' ',tweet)\n",
        "  #used to remove single characters\n",
        "  tweet=re.sub(r'\\s+[a-zA-Z]\\s+',' ',tweet)\n",
        "  #converting in list\n",
        "  tweet=list(tweet.split(\" \"))\n",
        "  # to remove stop words\n",
        "  filtered_words=[w for w in tweet if not w in STOPWORDS]\n",
        "  #printing only filtered words\n",
        "  #removing numeric from given data sets\n",
        "  alpha_words=[w for w in filtered_words if w.isalpha()]\n",
        "  return \" \".join(alpha_words)"
      ],
      "execution_count": 14,
      "outputs": []
    },
    {
      "cell_type": "markdown",
      "metadata": {
        "id": "FVdstqM5oV1k"
      },
      "source": [
        "creating a list to store clean tweets after passing each to remove_symb function"
      ]
    },
    {
      "cell_type": "code",
      "metadata": {
        "id": "NeOOokuoA4uR"
      },
      "source": [
        "lst=[]\n",
        "sentences=list(Data['tweet'])\n",
        "for sen in sentences:\n",
        "  lst.append(remove_symb(sen))"
      ],
      "execution_count": 25,
      "outputs": []
    },
    {
      "cell_type": "code",
      "metadata": {
        "colab": {
          "base_uri": "https://localhost:8080/"
        },
        "id": "zcQjWboWB5n-",
        "outputId": "2884eeaa-e7a1-445b-e93d-58abc747d80d"
      },
      "source": [
        "print(lst[1:10])"
      ],
      "execution_count": 26,
      "outputs": [
        {
          "output_type": "stream",
          "name": "stdout",
          "text": [
            "['thanks lyft credit cant use cause dont offer wheelchair vans pdx disapointed getthanked', 'bihday majesty', 'model love take time', 'factsguide society motivation', 'huge fan fare big talking leave chaos pay disputes get allshowandnogo', 'camping tomorrow', 'next school year year cant think school exams hate imagine actorslife revolutionschool girl', 'love land allin cavs champions cleveland clevelandcavaliers', 'welcome im']\n"
          ]
        }
      ]
    },
    {
      "cell_type": "code",
      "metadata": {
        "colab": {
          "base_uri": "https://localhost:8080/"
        },
        "id": "ColTl_JNdGSZ",
        "outputId": "676db965-4ced-4232-c49e-073a98ae470e"
      },
      "source": [
        "#PoS tagging :\n",
        "\n",
        "\n",
        "sentence = lst[5]\n",
        "\n",
        "#Tokenizing words :\n",
        "tokenized_words = word_tokenize(sentence)\n",
        "\n",
        "for words in tokenized_words:\n",
        "    tagged_words = nltk.pos_tag(tokenized_words)\n",
        "    \n",
        "tagged_words"
      ],
      "execution_count": 27,
      "outputs": [
        {
          "output_type": "execute_result",
          "data": {
            "text/plain": [
              "[('huge', 'JJ'),\n",
              " ('fan', 'NN'),\n",
              " ('fare', 'NN'),\n",
              " ('big', 'JJ'),\n",
              " ('talking', 'VBG'),\n",
              " ('leave', 'JJ'),\n",
              " ('chaos', 'NN'),\n",
              " ('pay', 'NN'),\n",
              " ('disputes', 'NNS'),\n",
              " ('get', 'VBP'),\n",
              " ('allshowandnogo', 'JJ')]"
            ]
          },
          "metadata": {},
          "execution_count": 27
        }
      ]
    },
    {
      "cell_type": "markdown",
      "metadata": {
        "id": "Apwk_jYpoh4l"
      },
      "source": [
        "classifier storing it on array"
      ]
    },
    {
      "cell_type": "code",
      "metadata": {
        "id": "ybnjOyXyCYXt"
      },
      "source": [
        "y=np.array(list(Data['label']))"
      ],
      "execution_count": 28,
      "outputs": []
    },
    {
      "cell_type": "markdown",
      "metadata": {
        "id": "m3Dq4PW2onBP"
      },
      "source": [
        "spliting data in train and test"
      ]
    },
    {
      "cell_type": "code",
      "metadata": {
        "id": "BG_92xLVCkTb"
      },
      "source": [
        "X_train,X_test,Y_train,Y_test = train_test_split(X,y,test_size=0.40,random_state=42)"
      ],
      "execution_count": 29,
      "outputs": []
    },
    {
      "cell_type": "code",
      "metadata": {
        "colab": {
          "base_uri": "https://localhost:8080/"
        },
        "id": "DfMmjdGYDun9",
        "outputId": "8bea6486-9670-4bbb-ee45-8355c3391267"
      },
      "source": [
        "print(len(X_train))\n",
        "print(len(X_test))\n",
        "print(np.unique(y))"
      ],
      "execution_count": 30,
      "outputs": [
        {
          "output_type": "stream",
          "name": "stdout",
          "text": [
            "19177\n",
            "12785\n",
            "[0 1]\n"
          ]
        }
      ]
    },
    {
      "cell_type": "markdown",
      "metadata": {
        "id": "Qmr8BdGTorvj"
      },
      "source": [
        "setting size of vocab for tokeniezer and converts a list of sequences into numpy matrix in binary mode"
      ]
    },
    {
      "cell_type": "code",
      "metadata": {
        "id": "F5Mk64LuETWr"
      },
      "source": [
        "vocab_size=5000\n",
        "tokenizer=Tokenizer(num_words=vocab_size)\n",
        "tokenizer.fit_on_texts(X_train)\n",
        "\n",
        "\n",
        "X_train=tokenizer.texts_to_matrix(X_train,mode = 'binary')\n",
        "X_test=tokenizer.texts_to_matrix(X_test,mode='binary')"
      ],
      "execution_count": 31,
      "outputs": []
    },
    {
      "cell_type": "markdown",
      "metadata": {
        "id": "CDbdf6Hjo4_x"
      },
      "source": [
        "converting output to catogerical value, we know we have two catogery here"
      ]
    },
    {
      "cell_type": "code",
      "metadata": {
        "id": "J0oBK3qxwCGP"
      },
      "source": [
        "import tensorflow as tf\n",
        "from keras import utils as np_utils \n",
        "\n",
        "Y_train =  tf.keras.utils.to_categorical(Y_train, 2)\n",
        "Y_test = tf.keras.utils.to_categorical(Y_test, 2)"
      ],
      "execution_count": 32,
      "outputs": []
    },
    {
      "cell_type": "code",
      "metadata": {
        "colab": {
          "base_uri": "https://localhost:8080/"
        },
        "id": "Dun_oTbsw-SI",
        "outputId": "64192122-0873-45f5-d730-888e7c2b6b01"
      },
      "source": [
        "print(X_train.shape)"
      ],
      "execution_count": 33,
      "outputs": [
        {
          "output_type": "stream",
          "name": "stdout",
          "text": [
            "(19177, 5000)\n"
          ]
        }
      ]
    },
    {
      "cell_type": "code",
      "metadata": {
        "colab": {
          "base_uri": "https://localhost:8080/"
        },
        "id": "6lrbJSyFxMmZ",
        "outputId": "63f046a5-6107-4af2-cc77-46414aaa6d5a"
      },
      "source": [
        "len(tokenizer.word_index)"
      ],
      "execution_count": 34,
      "outputs": [
        {
          "output_type": "execute_result",
          "data": {
            "text/plain": [
              "27194"
            ]
          },
          "metadata": {},
          "execution_count": 34
        }
      ]
    },
    {
      "cell_type": "markdown",
      "metadata": {
        "id": "GBTYWgl0pErh"
      },
      "source": [
        "defining a model using keras library using 2 dense and 2 activation function"
      ]
    },
    {
      "cell_type": "code",
      "metadata": {
        "id": "jVoq8dx3xTG9"
      },
      "source": [
        "maxwords=5000\n",
        "model=Sequential()\n",
        "model.add(Dense(512,input_shape=(maxwords,)))\n",
        "model.add(Activation('relu'))\n",
        "model.add(Dropout(0.5))\n",
        "model.add(Dense(2))\n",
        "model.add(Activation('softmax'))"
      ],
      "execution_count": 35,
      "outputs": []
    },
    {
      "cell_type": "markdown",
      "metadata": {
        "id": "rVl3vUALpTRV"
      },
      "source": [
        "cimpiling and building a model"
      ]
    },
    {
      "cell_type": "code",
      "metadata": {
        "colab": {
          "base_uri": "https://localhost:8080/"
        },
        "id": "VnyOcM1wyM7d",
        "outputId": "e114431f-b6f7-441a-b244-583385edb902"
      },
      "source": [
        "model.compile(loss='categorical_crossentropy',\n",
        "              optimizer='adam',\n",
        "              metrics=['accuracy'])\n",
        "print(model.metrics_names)"
      ],
      "execution_count": 36,
      "outputs": [
        {
          "output_type": "stream",
          "name": "stdout",
          "text": [
            "[]\n"
          ]
        }
      ]
    },
    {
      "cell_type": "markdown",
      "metadata": {
        "id": "dMVbQFBzpbHa"
      },
      "source": [
        "it prints model summary"
      ]
    },
    {
      "cell_type": "code",
      "metadata": {
        "colab": {
          "base_uri": "https://localhost:8080/"
        },
        "id": "WXCw69a60aOm",
        "outputId": "1a97c3f4-e5b6-4ffb-8568-75019ae6c08b"
      },
      "source": [
        "print(model.summary())"
      ],
      "execution_count": 37,
      "outputs": [
        {
          "output_type": "stream",
          "name": "stdout",
          "text": [
            "Model: \"sequential\"\n",
            "_________________________________________________________________\n",
            "Layer (type)                 Output Shape              Param #   \n",
            "=================================================================\n",
            "dense (Dense)                (None, 512)               2560512   \n",
            "_________________________________________________________________\n",
            "activation (Activation)      (None, 512)               0         \n",
            "_________________________________________________________________\n",
            "dropout (Dropout)            (None, 512)               0         \n",
            "_________________________________________________________________\n",
            "dense_1 (Dense)              (None, 2)                 1026      \n",
            "_________________________________________________________________\n",
            "activation_1 (Activation)    (None, 2)                 0         \n",
            "=================================================================\n",
            "Total params: 2,561,538\n",
            "Trainable params: 2,561,538\n",
            "Non-trainable params: 0\n",
            "_________________________________________________________________\n",
            "None\n"
          ]
        }
      ]
    },
    {
      "cell_type": "markdown",
      "metadata": {
        "id": "rVIb-YO1pjek"
      },
      "source": [
        "Training the model"
      ]
    },
    {
      "cell_type": "code",
      "metadata": {
        "colab": {
          "base_uri": "https://localhost:8080/"
        },
        "id": "uewR_ngc0hpc",
        "outputId": "f86b2be5-4d44-40a0-ca49-e1a4779f8657"
      },
      "source": [
        "batch_size=32\n",
        "epochs=10\n",
        "history=model.fit(X_train,Y_train,batch_size=batch_size,epochs=epochs,verbose=1,validation_split=0.1)\n",
        "score=model.evaluate(X_test,Y_test,batch_size=batch_size,verbose=1)\n",
        "print(score[0])\n",
        "print(score[1])\n"
      ],
      "execution_count": 38,
      "outputs": [
        {
          "output_type": "stream",
          "name": "stdout",
          "text": [
            "Epoch 1/10\n",
            "540/540 [==============================] - 9s 16ms/step - loss: 0.1826 - accuracy: 0.9412 - val_loss: 0.1338 - val_accuracy: 0.9562\n",
            "Epoch 2/10\n",
            "540/540 [==============================] - 8s 15ms/step - loss: 0.0880 - accuracy: 0.9695 - val_loss: 0.1307 - val_accuracy: 0.9609\n",
            "Epoch 3/10\n",
            "540/540 [==============================] - 8s 15ms/step - loss: 0.0465 - accuracy: 0.9846 - val_loss: 0.1427 - val_accuracy: 0.9546\n",
            "Epoch 4/10\n",
            "540/540 [==============================] - 8s 15ms/step - loss: 0.0280 - accuracy: 0.9911 - val_loss: 0.1585 - val_accuracy: 0.9567\n",
            "Epoch 5/10\n",
            "540/540 [==============================] - 9s 16ms/step - loss: 0.0175 - accuracy: 0.9952 - val_loss: 0.1727 - val_accuracy: 0.9541\n",
            "Epoch 6/10\n",
            "540/540 [==============================] - 8s 15ms/step - loss: 0.0122 - accuracy: 0.9969 - val_loss: 0.1928 - val_accuracy: 0.9572\n",
            "Epoch 7/10\n",
            "540/540 [==============================] - 8s 16ms/step - loss: 0.0088 - accuracy: 0.9979 - val_loss: 0.2176 - val_accuracy: 0.9552\n",
            "Epoch 8/10\n",
            "540/540 [==============================] - 9s 16ms/step - loss: 0.0075 - accuracy: 0.9982 - val_loss: 0.2204 - val_accuracy: 0.9557\n",
            "Epoch 9/10\n",
            "540/540 [==============================] - 8s 16ms/step - loss: 0.0062 - accuracy: 0.9985 - val_loss: 0.2417 - val_accuracy: 0.9552\n",
            "Epoch 10/10\n",
            "540/540 [==============================] - 8s 16ms/step - loss: 0.0056 - accuracy: 0.9987 - val_loss: 0.2379 - val_accuracy: 0.9536\n",
            "400/400 [==============================] - 2s 5ms/step - loss: 0.2482 - accuracy: 0.9536\n",
            "0.24821922183036804\n",
            "0.953617513179779\n"
          ]
        }
      ]
    },
    {
      "cell_type": "markdown",
      "metadata": {
        "id": "3yeEDgaLprWh"
      },
      "source": [
        "Listing all data in history"
      ]
    },
    {
      "cell_type": "code",
      "metadata": {
        "colab": {
          "base_uri": "https://localhost:8080/"
        },
        "id": "wFZCigbj5sVT",
        "outputId": "e4ecfb89-404a-4f4d-95f0-62a1e0d4bd31"
      },
      "source": [
        "print(history.history.keys())"
      ],
      "execution_count": 39,
      "outputs": [
        {
          "output_type": "stream",
          "name": "stdout",
          "text": [
            "dict_keys(['loss', 'accuracy', 'val_loss', 'val_accuracy'])\n"
          ]
        }
      ]
    },
    {
      "cell_type": "markdown",
      "metadata": {
        "id": "_QkiWu6kpyhM"
      },
      "source": [
        "summarizing history for accuracy"
      ]
    },
    {
      "cell_type": "code",
      "metadata": {
        "colab": {
          "base_uri": "https://localhost:8080/",
          "height": 295
        },
        "id": "WeUzlQGF6N37",
        "outputId": "b5d2764c-c1da-4216-c689-2e11a8323a73"
      },
      "source": [
        "plt.plot(history.history['accuracy'])\n",
        "plt.plot(history.history['val_accuracy'])\n",
        "plt.title('model accuracy')\n",
        "plt.ylabel('accuracy')\n",
        "plt.xlabel('epoch')\n",
        "plt.legend(['train','validation'],loc='upper left')\n",
        "plt.show()\n"
      ],
      "execution_count": 40,
      "outputs": [
        {
          "output_type": "display_data",
          "data": {
            "image/png": "[encoded data removed]",
            "text/plain": [
              "<Figure size 432x288 with 1 Axes>"
            ]
          },
          "metadata": {
            "needs_background": "light"
          }
        }
      ]
    },
    {
      "cell_type": "markdown",
      "metadata": {
        "id": "8OgLGQb0p-WD"
      },
      "source": [
        "summerizing history for loss"
      ]
    },
    {
      "cell_type": "code",
      "metadata": {
        "colab": {
          "base_uri": "https://localhost:8080/",
          "height": 295
        },
        "id": "hWu8Wgr47S73",
        "outputId": "d9135e96-4236-4d70-a683-5c8c00e5aabf"
      },
      "source": [
        "plt.plot(history.history['loss'])\n",
        "plt.plot(history.history['val_loss'])\n",
        "plt.title('model loss')\n",
        "plt.ylabel('loss')\n",
        "plt.xlabel('epoch')\n",
        "plt.legend(['train','validation'],loc='upper left')\n",
        "plt.show()"
      ],
      "execution_count": 41,
      "outputs": [
        {
          "output_type": "display_data",
          "data": {
            "image/png": "[encoded data removed]",
            "text/plain": [
              "<Figure size 432x288 with 1 Axes>"
            ]
          },
          "metadata": {
            "needs_background": "light"
          }
        }
      ]
    }
  ]
}